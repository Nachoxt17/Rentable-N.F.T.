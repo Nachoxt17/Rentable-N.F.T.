{
 "cells": [
  {
   "cell_type": "code",
   "execution_count": 2,
   "metadata": {},
   "outputs": [],
   "source": [
    "from typing import List"
   ]
  },
  {
   "cell_type": "markdown",
   "metadata": {},
   "source": [
    "- if length == 1 -> just **handle that single one**\n",
    "- if length > 1 -> **lastIx, currIx = 0, 1**\n",
    "- if consecutive (currIx == lastIx + 1) same address and amounts ![0, 0]: 1155 -> **loop until different address**\n",
    "- if consecutive amounts [0, 0], then 721 -> **handle lend on last**. **lastIx = currIx, currIx++**\n",
    "- if consecutive amounts [0, 0] and same address: same 721 but different tokenIds transfer -> **handle lend on last**\n",
    "- if consecutive same address, and now new address -> it was a batch transfer for 1155. Handle **lend for 1155 on last. Set last to current, set current to next; continue**\n"
   ]
  },
  {
   "cell_type": "code",
   "execution_count": 3,
   "metadata": {},
   "outputs": [],
   "source": [
    "from enum import Enum"
   ]
  },
  {
   "cell_type": "code",
   "execution_count": 4,
   "metadata": {},
   "outputs": [],
   "source": [
    "class NFT(Enum):\n",
    "    E721 = 1\n",
    "    E1155 = 2"
   ]
  },
  {
   "cell_type": "code",
   "execution_count": 5,
   "metadata": {},
   "outputs": [],
   "source": [
    "class NFTAddress:\n",
    "    def __init__(self, address: str, nft: NFT):\n",
    "        self.address = address\n",
    "        self.nft = nft\n",
    "    \n",
    "    def __repr__(self):\n",
    "        return f\"NFTAddress(address={self.address},nft={self.nft.name})\""
   ]
  },
  {
   "cell_type": "code",
   "execution_count": 6,
   "metadata": {},
   "outputs": [],
   "source": [
    "def is721(_nft: NFT):\n",
    "    return _nft.value == NFT.E721.value"
   ]
  },
  {
   "cell_type": "code",
   "execution_count": 7,
   "metadata": {},
   "outputs": [],
   "source": [
    "def is1155(_nft: NFT):\n",
    "    return  _nft.value == NFT.E1155.value"
   ]
  },
  {
   "cell_type": "code",
   "execution_count": 8,
   "metadata": {},
   "outputs": [],
   "source": [
    "def handle_lend(_nft: List[NFTAddress], _amounts: List[int]):\n",
    "    if is721(_nft[0].nft):\n",
    "        print(f'handle_lend 721 | {_nft} {str(_amounts)}')\n",
    "    elif is1155(_nft[0].nft):\n",
    "        print(f'handle_lend 1155 | {_nft} {str(_amounts)}')\n",
    "    else:\n",
    "        return Exception('invalid token type')"
   ]
  },
  {
   "cell_type": "code",
   "execution_count": 9,
   "metadata": {},
   "outputs": [],
   "source": [
    "def handle_rent(_nft: List[NFTAddress], _amounts: List[int]):\n",
    "    if is721(_nft[0].nft):\n",
    "        print(f'handle_rent 721 | {_nft} {str(_amounts)}')\n",
    "    elif is1155(_nft[0].nft):\n",
    "        print(f'handle_rent 1155 | {_nft} {str(_amounts)}')\n",
    "    else:\n",
    "        return Exception('invalid token type')"
   ]
  },
  {
   "cell_type": "code",
   "execution_count": 12,
   "metadata": {},
   "outputs": [],
   "source": [
    "# takes nfts as inputs\n",
    "# different by (i)  address\n",
    "# type         (ii) 721 or 1155\n",
    "# creates groups, by type\n",
    "# assumes that NFTs have been passed ordered\n",
    "# i.e. [721, 1155, 1155]. Otherwise, no gas efficiencies\n",
    "def bundle_call(nfts: List[NFTAddress]):\n",
    "  # validation\n",
    "  nfts_len = len(nfts)\n",
    "  if nfts_len == 0:\n",
    "    raise Exception(\"nothing to bundle\")\n",
    "  if nfts_len == 1:\n",
    "    print(nfts[0])\n",
    "\n",
    "  # grouping logic\n",
    "  last_ix = 0\n",
    "  curr_ix = 1\n",
    "\n",
    "  # loop until curr_ix == nfts_len\n",
    "  while curr_ix != nfts_len:\n",
    "    # increment the curr_ix if:\n",
    "    # - nfts[curr_ix] is 1155 and address is same as nfts[last_ix]\n",
    "    if is1155(nfts[curr_ix].nft) and nfts[curr_ix].address == nfts[last_ix].address:\n",
    "      curr_ix += 1\n",
    "    else:\n",
    "      print(f\"calling action on [{last_ix}, {curr_ix})\")\n",
    "      last_ix = curr_ix\n",
    "      curr_ix += 1\n",
    "\n",
    "  print(f\"calling action on [{last_ix}, {curr_ix})\")\n"
   ]
  },
  {
   "cell_type": "code",
   "execution_count": 13,
   "metadata": {},
   "outputs": [
    {
     "name": "stdout",
     "output_type": "stream",
     "text": [
      "calling action on [0, 1)\n",
      "calling action on [1, 3)\n",
      "calling action on [3, 4)\n",
      "calling action on [4, 5)\n",
      "calling action on [5, 7)\n",
      "calling action on [7, 8)\n"
     ]
    }
   ],
   "source": [
    "bundle_call(\n",
    "  [\n",
    "    NFTAddress('0x123', NFT.E721),\n",
    "    NFTAddress('0x223', NFT.E1155),\n",
    "    NFTAddress('0x223', NFT.E1155),\n",
    "    NFTAddress('0x234', NFT.E721),\n",
    "    NFTAddress('0x345', NFT.E721),\n",
    "    NFTAddress('0x223', NFT.E1155),\n",
    "    NFTAddress('0x223', NFT.E1155),\n",
    "    NFTAddress('0x345', NFT.E1155),\n",
    "  ]\n",
    ")"
   ]
  },
  {
   "cell_type": "code",
   "execution_count": 16,
   "metadata": {},
   "outputs": [],
   "source": [
    "def lend(_nft: List[NFTAddress], _amounts: List[int]):\n",
    "\n",
    "    nft_len = len(_nft)    \n",
    "    if nft_len < 2:\n",
    "        handle_lend([_nft[0]], [_amounts[0]])\n",
    "        return\n",
    "\n",
    "    last_ix, curr_ix = 0, 1\n",
    "    while curr_ix < nft_len:\n",
    "\n",
    "        if _nft[last_ix].address == _nft[curr_ix].address \\\n",
    "            and _amounts[curr_ix] != 0:\n",
    "            curr_ix += 1\n",
    "            continue\n",
    "\n",
    "        handle_lend(_nft[last_ix:curr_ix], _amounts[last_ix:curr_ix])\n",
    "\n",
    "        last_ix = curr_ix\n",
    "        curr_ix += 1\n",
    "\n",
    "    handle_lend(_nft[last_ix:], _amounts[last_ix:])"
   ]
  },
  {
   "cell_type": "code",
   "execution_count": 22,
   "metadata": {},
   "outputs": [
    {
     "name": "stdout",
     "output_type": "stream",
     "text": [
      "handle_lend 721 | [NFTAddress(address=0x123,nft=E721)] [0]\n",
      "handle_lend 1155 | [NFTAddress(address=0x223,nft=E1155), NFTAddress(address=0x223,nft=E1155)] [1, 2]\n",
      "handle_lend 721 | [NFTAddress(address=0x234,nft=E721)] [0]\n",
      "handle_lend 721 | [NFTAddress(address=0x345,nft=E721)] [0]\n",
      "handle_lend 1155 | [NFTAddress(address=0x223,nft=E1155), NFTAddress(address=0x223,nft=E1155)] [3, 4]\n",
      "handle_lend 1155 | [NFTAddress(address=0x345,nft=E1155)] [10]\n"
     ]
    }
   ],
   "source": [
    "lend(\n",
    "    [\n",
    "        NFTAddress('0x123', NFT.E721),\n",
    "        NFTAddress('0x223', NFT.E1155),\n",
    "        NFTAddress('0x223', NFT.E1155),\n",
    "        NFTAddress('0x234', NFT.E721),\n",
    "        NFTAddress('0x345', NFT.E721),\n",
    "        NFTAddress('0x223', NFT.E1155),\n",
    "        NFTAddress('0x223', NFT.E1155),\n",
    "        NFTAddress('0x345', NFT.E1155),\n",
    "    ],\n",
    "    [\n",
    "        0,\n",
    "        1,\n",
    "        2,\n",
    "        0,\n",
    "        0,\n",
    "        3,\n",
    "        4,\n",
    "        10\n",
    "    ]\n",
    ")"
   ]
  }
 ],
 "metadata": {
  "interpreter": {
   "hash": "c466090ba9aa624240448c9bafc9922eac10ab2957388980c2e02c3c7f03a93d"
  },
  "kernelspec": {
   "display_name": "Python 3.9.5 64-bit ('3.9.5': pyenv)",
   "name": "python3"
  },
  "language_info": {
   "codemirror_mode": {
    "name": "ipython",
    "version": 3
   },
   "file_extension": ".py",
   "mimetype": "text/x-python",
   "name": "python",
   "nbconvert_exporter": "python",
   "pygments_lexer": "ipython3",
   "version": "3.9.5"
  }
 },
 "nbformat": 4,
 "nbformat_minor": 5
}